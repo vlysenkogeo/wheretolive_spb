{
 "cells": [
  {
   "cell_type": "code",
   "execution_count": 1,
   "metadata": {},
   "outputs": [],
   "source": [
    "import pandas as pd\n",
    "import geopandas as gpd\n",
    "import osmnx as ox\n",
    "import os\n",
    "from shapely.geometry.multipolygon import MultiPolygon"
   ]
  },
  {
   "cell_type": "code",
   "execution_count": 2,
   "metadata": {},
   "outputs": [],
   "source": [
    "os.chdir(\"C:/Users/user/Desktop/Геофак учёба/1 МАГА/Пайтон у Энтина/Проект/Получение графа и изохрон/isochrones_geopackages\")\n",
    "\n",
    "five_minutes_iso = gpd.read_file(\"five_minutes_iso.gpkg\")\n",
    "ten_minutes_iso = gpd.read_file(\"ten_minutes_iso.gpkg\")\n",
    "fifteen_minutes_iso = gpd.read_file(\"fifteen_minutes_iso.gpkg\")\n",
    "twenty_minutes_iso = gpd.read_file(\"twenty_minutes_iso.gpkg\")"
   ]
  },
  {
   "cell_type": "code",
   "execution_count": null,
   "metadata": {},
   "outputs": [],
   "source": [
    "def get_poi(polygon, tags, **params):\n",
    "    '''\n",
    "    Данная функция выгружает из OSM точечные и полигональные объекты в границах входного полигона. \\n\n",
    "    Аргументы функции: \\n\n",
    "    *polygon: Shapely.Polygon или Shapely.MultiPolygon (границы выгрузки) \\n\n",
    "    *tags: dict (тэги объектов) \\n\n",
    "    geometry: str (\"Point\" - точечные объекты, \"Polygon\" - полигональные объекты, по умолчанию \"Point\") \\n\n",
    "    export: bool (True - экспортировать результат в GeoPackage, по умолчанию False)\n",
    "    file_name: str (название файла, по умолчанию \"export\")\n",
    "    '''\n",
    "    poi = ox.features_from_polygon(polygon, tags=tags).reset_index(drop=True)\n",
    "    geometry_error = \"Ошибка! Недопустимая геометрия.\"\n",
    "    export_error = \"Ошибка! Задано имя экспортируемого файла, но экспорт не разрешён.\"\n",
    "\n",
    "    # Выгрузка геометрии\n",
    "    if (\"geometry\" in params and params[\"geometry\"]==\"Point\") or (\"geometry\" not in params):\n",
    "        poi.geometry = poi.geometry.centroid\n",
    "    elif \"geometry\" in params and params[\"geometry\"]==\"Polygon\":\n",
    "        polygons = poi[poi.geometry.type.isin(['Polygon', 'MultiPolygon'])]\n",
    "        if len(polygons) == 0:\n",
    "            print(geometry_error)\n",
    "        else:\n",
    "            poi = polygons\n",
    "            intersector = gpd.GeoDataFrame({'geometry': [polygon]}, crs=poi.crs)\n",
    "            poi = gpd.overlay(poi, intersector, how='intersection')\n",
    "            poi[\"area\"] = poi.area\n",
    "            poi = poi.sort_values(\"area\", ascending=False)\n",
    "            mean_area = poi['area'].mean()\n",
    "            std_dev = poi['area'].std() # Избавляемся от выбросов в виде слишком больших/маленьких полигонов\n",
    "            # (к примеру, весь исторический центр СПБ являлся одним объектом типа park)\n",
    "            upper_threshold = mean_area + 10 * std_dev\n",
    "            lower_threshold = mean_area - 10 * std_dev\n",
    "            poi = poi[(poi['area'] >= lower_threshold) & (poi['area'] <= upper_threshold)]\n",
    "    else:\n",
    "        print(geometry_error)\n",
    "        return\n",
    "    \n",
    "    # Настройки экспорта\n",
    "    if \"export\" not in params and \"file_name\" in params:\n",
    "        print(export_error)\n",
    "        return\n",
    "    if \"export\" in params and params[\"export\"]==True:\n",
    "        if \"file_name\" in params and params[\"file_name\"]==None:\n",
    "            poi.to_file(\"export.gpkg\")\n",
    "        else:\n",
    "            poi.to_file(f\"{params[\"file_name\"]}.gpkg\")\n",
    "    \n",
    "\n",
    "    return poi"
   ]
  },
  {
   "cell_type": "code",
   "execution_count": 20,
   "metadata": {},
   "outputs": [],
   "source": [
    "os.chdir(\"C:/Users/user/Desktop/Геофак учёба/1 МАГА/Пайтон у Энтина/Проект/Выгрузка POI\")\n",
    "\n",
    "download_mask = twenty_minutes_iso.dissolve().geometry.iloc[0]\n",
    "\n"
   ]
  },
  {
   "cell_type": "code",
   "execution_count": null,
   "metadata": {},
   "outputs": [
    {
     "name": "stderr",
     "output_type": "stream",
     "text": [
      "C:\\Users\\user\\AppData\\Local\\Temp\\ipykernel_3284\\4014514692.py:17: UserWarning: Geometry is in a geographic CRS. Results from 'centroid' are likely incorrect. Use 'GeoSeries.to_crs()' to re-project geometries to a projected CRS before this operation.\n",
      "\n",
      "  poi.geometry = poi.geometry.centroid\n"
     ]
    }
   ],
   "source": [
    "osm_food_amenities_tags = {\n",
    "    \"amenity\": [\"restaurant\", \n",
    "                \"fast_food\", \n",
    "                \"cafe\", \"food_court\", \n",
    "                \"ice_cream\", \n",
    "                \"biergarten\" ]\n",
    "}\n",
    "\n",
    "osm_food_amenities = get_poi(download_mask, \n",
    "                              osm_food_amenities_tags, \n",
    "                              geometry=\"Point\", \n",
    "                              export=True, \n",
    "                              file_name=\"food\")\n"
   ]
  },
  {
   "cell_type": "code",
   "execution_count": null,
   "metadata": {},
   "outputs": [
    {
     "name": "stderr",
     "output_type": "stream",
     "text": [
      "C:\\Users\\user\\AppData\\Local\\Temp\\ipykernel_3284\\4014514692.py:17: UserWarning: Geometry is in a geographic CRS. Results from 'centroid' are likely incorrect. Use 'GeoSeries.to_crs()' to re-project geometries to a projected CRS before this operation.\n",
      "\n",
      "  poi.geometry = poi.geometry.centroid\n"
     ]
    }
   ],
   "source": [
    "osm_leisure_tags = {\"amenity\": [\"cinema\", \"nightclub\", \"community_centre\", \"bar\", \"pub\"],\n",
    "                    \"leisure\": [\"amusement_park\", \"dance\", \"escape_game\", \"miniature_golf\", \"bowling_alley\", \"water_park\", \"sports_centre\"]}\n",
    "osm_leisure = get_poi(download_mask, \n",
    "                    osm_leisure_tags, \n",
    "                    geometry=\"Point\", \n",
    "                    export=True, \n",
    "                    file_name=\"leisure\")"
   ]
  },
  {
   "cell_type": "code",
   "execution_count": null,
   "metadata": {},
   "outputs": [
    {
     "name": "stderr",
     "output_type": "stream",
     "text": [
      "C:\\Users\\user\\AppData\\Local\\Temp\\ipykernel_3284\\4014514692.py:17: UserWarning: Geometry is in a geographic CRS. Results from 'centroid' are likely incorrect. Use 'GeoSeries.to_crs()' to re-project geometries to a projected CRS before this operation.\n",
      "\n",
      "  poi.geometry = poi.geometry.centroid\n"
     ]
    }
   ],
   "source": [
    "osm_tourist_tags = {\"amenity\":[\"theater\", \"arts_center\"],\n",
    "                    \"tourism\":True}\n",
    "osm_tourism = get_poi(download_mask, \n",
    "                    osm_tourist_tags, \n",
    "                    geometry=\"Point\", \n",
    "                    export=True, \n",
    "                    file_name=\"tourism\")"
   ]
  },
  {
   "cell_type": "code",
   "execution_count": null,
   "metadata": {},
   "outputs": [
    {
     "name": "stderr",
     "output_type": "stream",
     "text": [
      "C:\\Users\\user\\AppData\\Local\\Temp\\ipykernel_3284\\4014514692.py:17: UserWarning: Geometry is in a geographic CRS. Results from 'centroid' are likely incorrect. Use 'GeoSeries.to_crs()' to re-project geometries to a projected CRS before this operation.\n",
      "\n",
      "  poi.geometry = poi.geometry.centroid\n"
     ]
    }
   ],
   "source": [
    "osm_shop_tags = {\n",
    "    \"shop\": [\"supermarket\", \"convenience\", \"clothes\", \"shoes\", \"electronics\", \"furniture\", \"books\", \"sports\", \"jewelry\", \"pharmacy\", \"bakery\", \"butcher\", \"greengrocer\", \"florist\", \"optician\", \"beauty\", \"hardware\", \"computer\", \"toys\", \"alcohol\", \"mobile_phone\", \"stationery\", \"gift\", \"mall\", \"outdoor\"]\n",
    "}\n",
    "osm_shops = get_poi(download_mask, \n",
    "                    osm_shop_tags, \n",
    "                    geometry=\"Point\", \n",
    "                    export=True, \n",
    "                    file_name=\"shops\")"
   ]
  },
  {
   "cell_type": "code",
   "execution_count": null,
   "metadata": {},
   "outputs": [
    {
     "name": "stderr",
     "output_type": "stream",
     "text": [
      "C:\\Users\\user\\AppData\\Local\\Temp\\ipykernel_3284\\916660873.py:26: UserWarning: Geometry is in a geographic CRS. Results from 'area' are likely incorrect. Use 'GeoSeries.to_crs()' to re-project geometries to a projected CRS before this operation.\n",
      "\n",
      "  poi[\"area\"] = poi.area\n"
     ]
    }
   ],
   "source": [
    "osm_greenery_tags = {\n",
    "    \"leisure\": [\"park\", \"garden\", \"nature_reserve\"],\n",
    "    \"landuse\": [\"forest\", \"meadow\", \"grass\", \"allotments\", \"orchard\", \"vineyard\"],\n",
    "    \"natural\": [\"wood\", \"scrub\", \"heath\", \"grassland\", \"wetland\"],\n",
    "    \"boundary\": [\"protected_area\"],\n",
    "    \"tourism\": [\"botanical_garden\", \"zoo\"]\n",
    "}\n",
    "osm_greenery = get_poi(download_mask, \n",
    "                    osm_greenery_tags, \n",
    "                    geometry=\"Polygon\", \n",
    "                    export=True, \n",
    "                    file_name=\"greenery\")"
   ]
  }
 ],
 "metadata": {
  "kernelspec": {
   "display_name": "ox",
   "language": "python",
   "name": "python3"
  },
  "language_info": {
   "codemirror_mode": {
    "name": "ipython",
    "version": 3
   },
   "file_extension": ".py",
   "mimetype": "text/x-python",
   "name": "python",
   "nbconvert_exporter": "python",
   "pygments_lexer": "ipython3",
   "version": "3.12.7"
  }
 },
 "nbformat": 4,
 "nbformat_minor": 2
}
