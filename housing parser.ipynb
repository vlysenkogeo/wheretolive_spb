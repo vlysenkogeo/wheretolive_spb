{
 "cells": [
  {
   "cell_type": "code",
   "execution_count": 477,
   "metadata": {},
   "outputs": [],
   "source": [
    "from selenium import webdriver\n",
    "from selenium.webdriver.chrome.service import Service\n",
    "from selenium.webdriver.common.by import By\n",
    "from time import sleep\n",
    "from random import randint\n",
    "import re\n",
    "from bs4 import BeautifulSoup\n",
    "from selenium.common.exceptions import NoSuchElementException\n",
    "import pandas as pd"
   ]
  },
  {
   "cell_type": "code",
   "execution_count": 1,
   "metadata": {},
   "outputs": [],
   "source": [
    "city = \"Санкт-Петербург\""
   ]
  },
  {
   "cell_type": "code",
   "execution_count": null,
   "metadata": {},
   "outputs": [
    {
     "name": "stdout",
     "output_type": "stream",
     "text": [
      "2.26072514858\n"
     ]
    }
   ],
   "source": [
    "# Пишем функцию, которая заставит компьютер спать случайное время.\n",
    "def randfloat():\n",
    "    i = str(randint(2,5))+\".\"\n",
    "    ii = str(randint(0,999999999999))\n",
    "    randfloat = float(i+ii)\n",
    "    return randfloat\n",
    "\n",
    "def randsleep():\n",
    "    sleep(randfloat())\n",
    "    return\n",
    "\n",
    "print(randfloat())"
   ]
  },
  {
   "cell_type": "code",
   "execution_count": null,
   "metadata": {},
   "outputs": [
    {
     "ename": "StaleElementReferenceException",
     "evalue": "Message: stale element reference: stale element not found in the current frame\n  (Session info: chrome=131.0.6778.86); For documentation on this error, please visit: https://www.selenium.dev/documentation/webdriver/troubleshooting/errors#stale-element-reference-exception\nStacktrace:\n\tGetHandleVerifier [0x00007FF7DD5738A5+3004357]\n\t(No symbol) [0x00007FF7DD209970]\n\t(No symbol) [0x00007FF7DD0B582A]\n\t(No symbol) [0x00007FF7DD0BC2E2]\n\t(No symbol) [0x00007FF7DD0BE637]\n\t(No symbol) [0x00007FF7DD0BE6F0]\n\t(No symbol) [0x00007FF7DD10833A]\n\t(No symbol) [0x00007FF7DD1070B9]\n\t(No symbol) [0x00007FF7DD0F996E]\n\t(No symbol) [0x00007FF7DD12BBDA]\n\t(No symbol) [0x00007FF7DD0F92A6]\n\t(No symbol) [0x00007FF7DD12BDF0]\n\t(No symbol) [0x00007FF7DD14BA4C]\n\t(No symbol) [0x00007FF7DD12B983]\n\t(No symbol) [0x00007FF7DD0F7628]\n\t(No symbol) [0x00007FF7DD0F8791]\n\tGetHandleVerifier [0x00007FF7DD59A00D+3161901]\n\tGetHandleVerifier [0x00007FF7DD5EE060+3506048]\n\tGetHandleVerifier [0x00007FF7DD5E400D+3465005]\n\tGetHandleVerifier [0x00007FF7DD360EEB+830987]\n\t(No symbol) [0x00007FF7DD21467F]\n\t(No symbol) [0x00007FF7DD2109D4]\n\t(No symbol) [0x00007FF7DD210B6D]\n\t(No symbol) [0x00007FF7DD200149]\n\tBaseThreadInitThunk [0x00007FFBB277259D+29]\n\tRtlUserThreadStart [0x00007FFBB44EAF38+40]\n",
     "output_type": "error",
     "traceback": [
      "\u001b[1;31m---------------------------------------------------------------------------\u001b[0m",
      "\u001b[1;31mStaleElementReferenceException\u001b[0m            Traceback (most recent call last)",
      "Cell \u001b[1;32mIn[389], line 32\u001b[0m\n\u001b[0;32m     29\u001b[0m driver\u001b[38;5;241m.\u001b[39mfind_element(By\u001b[38;5;241m.\u001b[39mXPATH, \u001b[38;5;124m\"\u001b[39m\u001b[38;5;124m//*[@id=\u001b[39m\u001b[38;5;124m'\u001b[39m\u001b[38;5;124mapp\u001b[39m\u001b[38;5;124m'\u001b[39m\u001b[38;5;124m]/div/buyer-location/div/div/div[2]/div/div[2]/div/div[1]/div[2]/div/div/div[2]/div/div[1]/div/div[3]/div/div/div/div[2]/label/span\u001b[39m\u001b[38;5;124m\"\u001b[39m)\u001b[38;5;241m.\u001b[39mclick()\n\u001b[0;32m     31\u001b[0m \u001b[38;5;66;03m# Переход на страницу квартир и выбор цены\u001b[39;00m\n\u001b[1;32m---> 32\u001b[0m \u001b[43mdriver\u001b[49m\u001b[38;5;241;43m.\u001b[39;49m\u001b[43mfind_element\u001b[49m\u001b[43m(\u001b[49m\u001b[43mBy\u001b[49m\u001b[38;5;241;43m.\u001b[39;49m\u001b[43mCLASS_NAME\u001b[49m\u001b[43m,\u001b[49m\u001b[43m \u001b[49m\u001b[38;5;124;43m\"\u001b[39;49m\u001b[38;5;124;43mbuyer-location-1kdcmzd\u001b[39;49m\u001b[38;5;124;43m\"\u001b[39;49m\u001b[43m)\u001b[49m\u001b[38;5;241;43m.\u001b[39;49m\u001b[43mclick\u001b[49m\u001b[43m(\u001b[49m\u001b[43m)\u001b[49m\n\u001b[0;32m     33\u001b[0m driver\u001b[38;5;241m.\u001b[39mfind_element(By\u001b[38;5;241m.\u001b[39mXPATH, \u001b[38;5;124m\"\u001b[39m\u001b[38;5;124m//*[@id=\u001b[39m\u001b[38;5;124m'\u001b[39m\u001b[38;5;124mapp\u001b[39m\u001b[38;5;124m'\u001b[39m\u001b[38;5;124m]/div/buyer-location/div/div/div[2]/div/div[2]/div/div[1]/div[2]/div/div/div[2]/div/div[2]/div[1]/div/div/a/span\u001b[39m\u001b[38;5;124m\"\u001b[39m)\u001b[38;5;241m.\u001b[39mclick()\n\u001b[0;32m     34\u001b[0m \u001b[38;5;28;01mfor\u001b[39;00m i \u001b[38;5;129;01min\u001b[39;00m \u001b[38;5;28mrange\u001b[39m(\u001b[38;5;28mlen\u001b[39m(\u001b[38;5;28mstr\u001b[39m(lower_price))):\n",
      "File \u001b[1;32mc:\\Users\\user\\miniconda3\\envs\\Les_BeautifulSoup\\lib\\site-packages\\selenium\\webdriver\\remote\\webelement.py:94\u001b[0m, in \u001b[0;36mWebElement.click\u001b[1;34m(self)\u001b[0m\n\u001b[0;32m     92\u001b[0m \u001b[38;5;28;01mdef\u001b[39;00m \u001b[38;5;21mclick\u001b[39m(\u001b[38;5;28mself\u001b[39m) \u001b[38;5;241m-\u001b[39m\u001b[38;5;241m>\u001b[39m \u001b[38;5;28;01mNone\u001b[39;00m:\n\u001b[0;32m     93\u001b[0m \u001b[38;5;250m    \u001b[39m\u001b[38;5;124;03m\"\"\"Clicks the element.\"\"\"\u001b[39;00m\n\u001b[1;32m---> 94\u001b[0m     \u001b[38;5;28;43mself\u001b[39;49m\u001b[38;5;241;43m.\u001b[39;49m\u001b[43m_execute\u001b[49m\u001b[43m(\u001b[49m\u001b[43mCommand\u001b[49m\u001b[38;5;241;43m.\u001b[39;49m\u001b[43mCLICK_ELEMENT\u001b[49m\u001b[43m)\u001b[49m\n",
      "File \u001b[1;32mc:\\Users\\user\\miniconda3\\envs\\Les_BeautifulSoup\\lib\\site-packages\\selenium\\webdriver\\remote\\webelement.py:395\u001b[0m, in \u001b[0;36mWebElement._execute\u001b[1;34m(self, command, params)\u001b[0m\n\u001b[0;32m    393\u001b[0m     params \u001b[38;5;241m=\u001b[39m {}\n\u001b[0;32m    394\u001b[0m params[\u001b[38;5;124m\"\u001b[39m\u001b[38;5;124mid\u001b[39m\u001b[38;5;124m\"\u001b[39m] \u001b[38;5;241m=\u001b[39m \u001b[38;5;28mself\u001b[39m\u001b[38;5;241m.\u001b[39m_id\n\u001b[1;32m--> 395\u001b[0m \u001b[38;5;28;01mreturn\u001b[39;00m \u001b[38;5;28;43mself\u001b[39;49m\u001b[38;5;241;43m.\u001b[39;49m\u001b[43m_parent\u001b[49m\u001b[38;5;241;43m.\u001b[39;49m\u001b[43mexecute\u001b[49m\u001b[43m(\u001b[49m\u001b[43mcommand\u001b[49m\u001b[43m,\u001b[49m\u001b[43m \u001b[49m\u001b[43mparams\u001b[49m\u001b[43m)\u001b[49m\n",
      "File \u001b[1;32mc:\\Users\\user\\miniconda3\\envs\\Les_BeautifulSoup\\lib\\site-packages\\selenium\\webdriver\\remote\\webdriver.py:354\u001b[0m, in \u001b[0;36mWebDriver.execute\u001b[1;34m(self, driver_command, params)\u001b[0m\n\u001b[0;32m    352\u001b[0m response \u001b[38;5;241m=\u001b[39m \u001b[38;5;28mself\u001b[39m\u001b[38;5;241m.\u001b[39mcommand_executor\u001b[38;5;241m.\u001b[39mexecute(driver_command, params)\n\u001b[0;32m    353\u001b[0m \u001b[38;5;28;01mif\u001b[39;00m response:\n\u001b[1;32m--> 354\u001b[0m     \u001b[38;5;28;43mself\u001b[39;49m\u001b[38;5;241;43m.\u001b[39;49m\u001b[43merror_handler\u001b[49m\u001b[38;5;241;43m.\u001b[39;49m\u001b[43mcheck_response\u001b[49m\u001b[43m(\u001b[49m\u001b[43mresponse\u001b[49m\u001b[43m)\u001b[49m\n\u001b[0;32m    355\u001b[0m     response[\u001b[38;5;124m\"\u001b[39m\u001b[38;5;124mvalue\u001b[39m\u001b[38;5;124m\"\u001b[39m] \u001b[38;5;241m=\u001b[39m \u001b[38;5;28mself\u001b[39m\u001b[38;5;241m.\u001b[39m_unwrap_value(response\u001b[38;5;241m.\u001b[39mget(\u001b[38;5;124m\"\u001b[39m\u001b[38;5;124mvalue\u001b[39m\u001b[38;5;124m\"\u001b[39m, \u001b[38;5;28;01mNone\u001b[39;00m))\n\u001b[0;32m    356\u001b[0m     \u001b[38;5;28;01mreturn\u001b[39;00m response\n",
      "File \u001b[1;32mc:\\Users\\user\\miniconda3\\envs\\Les_BeautifulSoup\\lib\\site-packages\\selenium\\webdriver\\remote\\errorhandler.py:229\u001b[0m, in \u001b[0;36mErrorHandler.check_response\u001b[1;34m(self, response)\u001b[0m\n\u001b[0;32m    227\u001b[0m         alert_text \u001b[38;5;241m=\u001b[39m value[\u001b[38;5;124m\"\u001b[39m\u001b[38;5;124malert\u001b[39m\u001b[38;5;124m\"\u001b[39m]\u001b[38;5;241m.\u001b[39mget(\u001b[38;5;124m\"\u001b[39m\u001b[38;5;124mtext\u001b[39m\u001b[38;5;124m\"\u001b[39m)\n\u001b[0;32m    228\u001b[0m     \u001b[38;5;28;01mraise\u001b[39;00m exception_class(message, screen, stacktrace, alert_text)  \u001b[38;5;66;03m# type: ignore[call-arg]  # mypy is not smart enough here\u001b[39;00m\n\u001b[1;32m--> 229\u001b[0m \u001b[38;5;28;01mraise\u001b[39;00m exception_class(message, screen, stacktrace)\n",
      "\u001b[1;31mStaleElementReferenceException\u001b[0m: Message: stale element reference: stale element not found in the current frame\n  (Session info: chrome=131.0.6778.86); For documentation on this error, please visit: https://www.selenium.dev/documentation/webdriver/troubleshooting/errors#stale-element-reference-exception\nStacktrace:\n\tGetHandleVerifier [0x00007FF7DD5738A5+3004357]\n\t(No symbol) [0x00007FF7DD209970]\n\t(No symbol) [0x00007FF7DD0B582A]\n\t(No symbol) [0x00007FF7DD0BC2E2]\n\t(No symbol) [0x00007FF7DD0BE637]\n\t(No symbol) [0x00007FF7DD0BE6F0]\n\t(No symbol) [0x00007FF7DD10833A]\n\t(No symbol) [0x00007FF7DD1070B9]\n\t(No symbol) [0x00007FF7DD0F996E]\n\t(No symbol) [0x00007FF7DD12BBDA]\n\t(No symbol) [0x00007FF7DD0F92A6]\n\t(No symbol) [0x00007FF7DD12BDF0]\n\t(No symbol) [0x00007FF7DD14BA4C]\n\t(No symbol) [0x00007FF7DD12B983]\n\t(No symbol) [0x00007FF7DD0F7628]\n\t(No symbol) [0x00007FF7DD0F8791]\n\tGetHandleVerifier [0x00007FF7DD59A00D+3161901]\n\tGetHandleVerifier [0x00007FF7DD5EE060+3506048]\n\tGetHandleVerifier [0x00007FF7DD5E400D+3465005]\n\tGetHandleVerifier [0x00007FF7DD360EEB+830987]\n\t(No symbol) [0x00007FF7DD21467F]\n\t(No symbol) [0x00007FF7DD2109D4]\n\t(No symbol) [0x00007FF7DD210B6D]\n\t(No symbol) [0x00007FF7DD200149]\n\tBaseThreadInitThunk [0x00007FFBB277259D+29]\n\tRtlUserThreadStart [0x00007FFBB44EAF38+40]\n"
     ]
    }
   ],
   "source": [
    "# Подключаемся к Авито, выбираем город и переходим на вкладку \"Недвижимость\"\n",
    "service = Service(\"C:/Users/user/py/chromedriver/chromedriver.exe\")\n",
    "driver = webdriver.Chrome(service=service)\n",
    "randsleep()\n",
    "driver.get(\"https://www.avito.ru/\")\n",
    "randsleep()\n",
    "driver.find_element(By.CLASS_NAME, \"buyer-location-nev1ty\").click()\n",
    "randsleep()\n",
    "driver.find_element(By.XPATH, \"//input\").clear()\n",
    "sleep(1.7)\n",
    "driver.find_element(By.XPATH, \"//input\").send_keys(city[0:4])\n",
    "sleep(1.7)\n",
    "[button for button in driver.find_elements(By.XPATH, \"//button\") if button.text==city][0].click()\n",
    "sleep(1.86)\n",
    "driver.find_element(By.XPATH, \"//*[@id='app']/div/buyer-location/div/div/div[2]/div/div[2]/div[2]/div/div/a[2]/img\").click()\n",
    "randsleep()\n",
    "\n",
    "# Выбор квартир на сайте\n",
    "driver.find_element(By.XPATH, \"//*[@id='app']/div/buyer-location/div/div/div[2]/div/div[2]/div/div[1]/div[2]/div/div/div[2]/div/div[1]/div/div[1]/div/div/label\").click()\n",
    "randsleep()\n",
    "driver.find_element(By.XPATH, \"//*[@id='app']/div/buyer-location/div/div/div[2]/div/div[2]/div/div[1]/div[2]/div/div/div[2]/div/div[1]/div/div[1]/div/div/div/div/div/div[1]/span\").click()\n",
    "randsleep()\n",
    "\n",
    "# Выбор посуточной аренды\n",
    "driver.find_element(By.XPATH, \"//*[@id='app']/div/buyer-location/div/div/div[2]/div/div[2]/div/div[1]/div[2]/div/div/div[2]/div/div[1]/div/div[2]/div/div/label\").click()\n",
    "randsleep()\n",
    "driver.find_element(By.XPATH, \"//*[@id='app']/div/buyer-location/div/div/div[2]/div/div[2]/div/div[1]/div[2]/div/div/div[2]/div/div[1]/div/div[2]/div/div/div/div/div/div[2]\").click()\n",
    "randsleep()\n",
    "driver.find_element(By.XPATH, \"//*[@id='app']/div/buyer-location/div/div/div[2]/div/div[2]/div/div[1]/div[2]/div/div/div[2]/div/div[1]/div/div[3]/div/div/div/div[2]/label/span\").click()\n",
    "\n",
    "# Переход на страницу квартир и выбор цены\n",
    "driver.find_element(By.CLASS_NAME, \"buyer-location-1kdcmzd\").click()\n",
    "driver.find_element(By.XPATH, \"//*[@id='app']/div/buyer-location/div/div/div[2]/div/div[2]/div/div[1]/div[2]/div/div/div[2]/div/div[2]/div[1]/div/div/a/span\").click()\n",
    "for i in range(len(str(lower_price))):\n",
    "    sleep(0.2)\n",
    "    driver.find_element(By.XPATH, \"//*[@id='app']/div/buyer-location/div/div/div[2]/div/div[2]/div[3]/div[1]/div/div[3]/div[2]/div[2]/form/div[5]/div[2]/div/div/div/label[1]/div/div/input\").send_keys(str(lower_price)[i])\n",
    "    randsleep()\n",
    "for i in range(len(str(highest_price))):\n",
    "    sleep(0.3)\n",
    "    driver.find_element(By.XPATH, \"//*[@id='app']/div/buyer-location/div/div/div[2]/div/div[2]/div[3]/div[1]/div/div[3]/div[2]/div[2]/form/div[5]/div[2]/div/div/div/label[2]/div/div/input\").send_keys(str(highest_price)[i])\n",
    "    randsleep()\n",
    "driver.find_element(By.XPATH, \"//*[@id='app']/div/buyer-location/div/div/div[2]/div/div[2]/div[3]/div[1]/div/div[3]/div[2]/div[4]/div/div/button\").click()\n"
   ]
  },
  {
   "cell_type": "code",
   "execution_count": null,
   "metadata": {},
   "outputs": [],
   "source": [
    "# Создаём пустые списки для данных, которые можно достать с базовой страницы.\n",
    "# Создаём переменную page для ручного контроля скрейпинга (Авито сбрасывал процесс раз в где-то 25-40 итерируемых страниц)\n",
    "rooms = []\n",
    "area = []\n",
    "beds = []\n",
    "price = []\n",
    "station = []\n",
    "walk = []\n",
    "page = 1"
   ]
  },
  {
   "cell_type": "code",
   "execution_count": 474,
   "metadata": {},
   "outputs": [],
   "source": [
    "page = 48"
   ]
  },
  {
   "cell_type": "code",
   "execution_count": null,
   "metadata": {},
   "outputs": [
    {
     "name": "stdout",
     "output_type": "stream",
     "text": [
      "48\n"
     ]
    }
   ],
   "source": [
    "# Перебираем страницы выдачи и записываем оттуда необходимые параметры\n",
    "while True:\n",
    "    sleep(1.26)\n",
    "    for el, cost, subway, walktime in zip([el.text for el in driver.find_elements(By.XPATH, \"//h3\")], \n",
    "                                          [int(\"\".join(re.split(r\"\\D\", el.text))) for el in driver.find_elements(By.XPATH, \"//p/strong/span\")],\n",
    "                             [el.text for el in driver.find_elements(By.XPATH, \"//div/p/span[2]\")], \n",
    "                             [el.text for el in driver.find_elements(By.XPATH, \"//div/p/span[3]\")]):\n",
    "        heading = el.split(sep=\", \")\n",
    "        rooms.append(heading[0])\n",
    "        area.append(re.sub(\" м²\", \"\", heading[1]))\n",
    "        beds.append(heading[2][0])\n",
    "        price.append(cost)\n",
    "        station.append(subway)\n",
    "        walk.append(walktime)\n",
    "    try:\n",
    "        driver.find_element(By.XPATH, \"//*[@id='app']/div/buyer-location/div/div/div[2]/div/div[2]/div[3]/div[3]/div[5]/nav/ul/li[9]/a\").click()\n",
    "        page + 1    \n",
    "    except NoSuchElementException:\n",
    "        break\n",
    "# Выдача страницы, на которой остановился процесс (для ручного контроля ошибок)\n",
    "print(page)"
   ]
  },
  {
   "cell_type": "code",
   "execution_count": 446,
   "metadata": {},
   "outputs": [],
   "source": [
    "for el, price, subway, walktime in zip([el.text for el in driver.find_elements(By.XPATH, \"//h3\")], [el.text for el in driver.find_elements(By.XPATH, \"/p/strong/span\")],\n",
    "                             [el.text for el in driver.find_elements(By.XPATH, \"//div/p/span[2]\")], [el.text for el in driver.find_elements(By.XPATH, \"//div/p/span[3]\")]):\n",
    "        heading = el.split(sep=\", \")\n",
    "        rooms.append(heading[0])\n",
    "        area.append(re.sub(\" м²\", \"\", heading[1]))\n",
    "        beds.append(heading[2][0])\n",
    "        price.append(int(\"\".join(re.split(r\"\\D\", driver.find_element(By.XPATH, \"//*[@id='i3077879880']/div/div/div[2]/div[3]/span/div/p/strong/span\").text))))\n",
    "        station.append(subway)\n",
    "        walk.append(walktime)"
   ]
  },
  {
   "cell_type": "code",
   "execution_count": 476,
   "metadata": {},
   "outputs": [],
   "source": [
    "driver.quit()"
   ]
  },
  {
   "cell_type": "code",
   "execution_count": null,
   "metadata": {},
   "outputs": [],
   "source": [
    "# Создаём DataFrame для экспорта полученной базы данных.\n",
    "flats_df = pd.DataFrame({\n",
    "    \"rooms\":rooms,\n",
    "    \"area\":area,\n",
    "    \"beds\":beds,\n",
    "    \"price\":price,\n",
    "    \"station\":station,\n",
    "    \"walk\":walk\n",
    "})\n",
    "flats_df.to_excel(\"flats.xlsx\")"
   ]
  }
 ],
 "metadata": {
  "kernelspec": {
   "display_name": "Les_BeautifulSoup",
   "language": "python",
   "name": "python3"
  },
  "language_info": {
   "codemirror_mode": {
    "name": "ipython",
    "version": 3
   },
   "file_extension": ".py",
   "mimetype": "text/x-python",
   "name": "python",
   "nbconvert_exporter": "python",
   "pygments_lexer": "ipython3",
   "version": "3.10.13"
  }
 },
 "nbformat": 4,
 "nbformat_minor": 2
}
